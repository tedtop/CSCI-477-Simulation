{
 "cells": [
  {
   "cell_type": "code",
   "execution_count": null,
   "id": "d2b522ea",
   "metadata": {},
   "outputs": [],
   "source": [
    "import numpy as np\n",
    "import matplotlib as mpl\n",
    "import matplotlib.pyplot as plt\n",
    "from IPython.display import HTML\n",
    "from matplotlib.animation import FuncAnimation\n",
    "\n",
    "# Increase animation embed limit\n",
    "mpl.rcParams['animation.embed_limit'] = 500  # In MB\n",
    "\n",
    "# Import the simulator and visualizer classes\n",
    "from HourglassSimulator import HourglassSimulator\n",
    "from HourglassVisualizer import HourglassVisualizer\n",
    "\n",
    "# Create the simulator with appropriate parameters\n",
    "simulator = HourglassSimulator(\n",
    "    N=3000,                  # Number of particles\n",
    "    Lx=20.0,                 # Box width\n",
    "    Ly=40.0,                 # Box height\n",
    "    temperature=10.0,        # Initial temperature 10.0 to answer parts a and b\n",
    "    dt=0.005,                # Time step size\n",
    "    gravity=9.8,             # Gravity strength\n",
    "    particle_radius=0.3,     # Particle radius\n",
    "    k=50.0,                  # Spring constant\n",
    "    gamma=5.0,               # Damping coefficient\n",
    "    contact_model=\"hertzian\", # Use Hertzian contact model (alternative: \"hooke\")\n",
    "    neck_width=0.5,          # Width of hourglass neck\n",
    "    wall_width=0.5,          # Wall thickness\n",
    "    friction_coef=1.0,       # Friction coefficient\n",
    "    restitution_coef=0.3,    # Coefficient of restitution\n",
    "    respawn_particles=False  # Don't respawn particles\n",
    ")\n",
    "\n",
    "# Create the hourglass shape\n",
    "simulator.draw_hourglass()\n",
    "\n",
    "# Initialize particles at the top\n",
    "simulator.initialize_random_falling_particles()\n",
    "\n",
    "# Create a visualizer\n",
    "visualizer = HourglassVisualizer(simulator)\n",
    "\n",
    "# Create animation for the first x seconds\n",
    "animation, fig = visualizer.create_animation(\n",
    "    limited_duration=30.0,  # Run for x simulation seconds\n",
    "    steps_per_frame=10,     # Number of simulation steps per frame\n",
    "    interval=30             # Delay between frames in milliseconds\n",
    ")\n",
    "\n",
    "# Display animation\n",
    "animation_html = animation.to_jshtml()\n",
    "plt.close(fig)\n",
    "HTML(animation_html)"
   ]
  }
 ],
 "metadata": {
  "kernelspec": {
   "display_name": ".venv",
   "language": "python",
   "name": "python3"
  },
  "language_info": {
   "codemirror_mode": {
    "name": "ipython",
    "version": 3
   },
   "file_extension": ".py",
   "mimetype": "text/x-python",
   "name": "python",
   "nbconvert_exporter": "python",
   "pygments_lexer": "ipython3",
   "version": "3.9.6"
  }
 },
 "nbformat": 4,
 "nbformat_minor": 5
}
